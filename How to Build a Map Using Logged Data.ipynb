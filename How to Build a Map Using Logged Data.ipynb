{
 "cells": [
  {
   "cell_type": "markdown",
   "metadata": {},
   "source": [
    "# How to Build a Map Using Logged Data\n",
    "\n",
    "**Description**: This tutorial shows you how to create a 2-D map from logged transform and laser scan data.\n",
    "\n",
    "**Keywords**: gmapping\n",
    "\n",
    "**Tutorial Level**: BEGINNER\n",
    "\n",
    "Adapted from the [ROS wiki](http://wiki.ros.org/slam_gmapping/Tutorials/MappingFromLoggedData)."
   ]
  },
  {
   "cell_type": "markdown",
   "metadata": {},
   "source": [
    "## 1. Building a Map\n",
    "&nbsp; &nbsp; 1. Bring up the master:"
   ]
  },
  {
   "cell_type": "code",
   "execution_count": null,
   "metadata": {},
   "outputs": [],
   "source": [
    "%%bash --bg\n",
    "roscore"
   ]
  },
  {
   "cell_type": "markdown",
   "metadata": {},
   "source": [
    "&nbsp; &nbsp; 2. Make sure that use_sim_time is set to true before any nodes are started: "
   ]
  },
  {
   "cell_type": "code",
   "execution_count": null,
   "metadata": {},
   "outputs": [],
   "source": [
    "%%bash\n",
    "rosparam set use_sim_time true"
   ]
  },
  {
   "cell_type": "markdown",
   "metadata": {},
   "source": [
    "&nbsp; &nbsp; 3. Bring up slam_gmapping, which will take in laser scans (in this case, on the **base_scan** topic) and produce a map: "
   ]
  },
  {
   "cell_type": "code",
   "execution_count": null,
   "metadata": {},
   "outputs": [],
   "source": [
    "%%bash --bg\n",
    "rosrun gmapping slam_gmapping scan:=base_scan"
   ]
  },
  {
   "cell_type": "markdown",
   "metadata": {},
   "source": [
    " &nbsp; &nbsp; 4. Start playing back the bag file to feed data to slam_gmapping."
   ]
  },
  {
   "cell_type": "code",
   "execution_count": null,
   "metadata": {},
   "outputs": [],
   "source": [
    "%%bash\n",
    "rosbag play --clock basic_localization_stage.bag"
   ]
  },
  {
   "cell_type": "markdown",
   "metadata": {},
   "source": [
    "&nbsp; &nbsp; &nbsp; &nbsp; Wait for rosbag to finish and exit. \n",
    "\n",
    "&nbsp; &nbsp; 5. Save your new map to disk using map_saver from the map_server package:"
   ]
  },
  {
   "cell_type": "code",
   "execution_count": null,
   "metadata": {},
   "outputs": [],
   "source": [
    "%%bash\n",
    "rosrun map_server map_saver -f my_map"
   ]
  },
  {
   "cell_type": "markdown",
   "metadata": {},
   "source": [
    "You now have a map, saved as `map.pgm`. Congratulations. You can view it now and compare it with the expected ground truth."
   ]
  },
  {
   "cell_type": "code",
   "execution_count": null,
   "metadata": {},
   "outputs": [],
   "source": [
    "import matplotlib.pyplot as plt\n",
    "import matplotlib.image  as img\n",
    "% matplotlib inline"
   ]
  },
  {
   "cell_type": "code",
   "execution_count": null,
   "metadata": {},
   "outputs": [],
   "source": [
    "my_map = img.imread('my_map.pgm')\n",
    "plt.imshow(my_map, cmap='gray'); plt.axis([1450,1700,2100,2350]);"
   ]
  },
  {
   "cell_type": "code",
   "execution_count": null,
   "metadata": {},
   "outputs": [],
   "source": [
    "ground_truth = img.imread('basic_localization_stage_ground_truth.png')\n",
    "plt.imshow(ground_truth, cmap='gray'); plt.axis([1450,1700,2100,2350]);"
   ]
  },
  {
   "cell_type": "code",
   "execution_count": null,
   "metadata": {},
   "outputs": [],
   "source": []
  }
 ],
 "metadata": {
  "kernelspec": {
   "display_name": "Python 2",
   "language": "python",
   "name": "python2"
  },
  "language_info": {
   "codemirror_mode": {
    "name": "ipython",
    "version": 2
   },
   "file_extension": ".py",
   "mimetype": "text/x-python",
   "name": "python",
   "nbconvert_exporter": "python",
   "pygments_lexer": "ipython2",
   "version": "2.7.12"
  }
 },
 "nbformat": 4,
 "nbformat_minor": 2
}

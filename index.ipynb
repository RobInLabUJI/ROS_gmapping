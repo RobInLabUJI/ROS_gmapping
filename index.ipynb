{
 "cells": [
  {
   "cell_type": "markdown",
   "metadata": {},
   "source": [
    "# ROS_gmapping\n",
    "This is a docker image of the [ROS slam_gmapping package](http://wiki.ros.org/slam_gmapping?distro=kinetic).\n",
    "\n",
    "## Package summary (from ROS wiki)\n",
    "\n",
    "slam_gmapping contains a wrapper around gmapping which provides SLAM capabilities.\n",
    "\n",
    "* Maintainer status: maintained\n",
    "* Maintainer: Vincent Rabaud <vincent.rabaud AT gmail DOT com>\n",
    "* Author: Brian Gerkey\n",
    "* License: CreativeCommons-by-nc-sa-2.0\n",
    "* Source: git [https://github.com/ros-perception/slam_gmapping.git](https://github.com/ros-perception/slam_gmapping.git) (branch: hydro-devel)\n"
   ]
  },
  {
   "cell_type": "markdown",
   "metadata": {},
   "source": [
    "## Tutorials\n",
    "\n",
    "1. [How to Build a Map Using Logged Data](How to Build a Map Using Logged Data.ipynb)<br>This tutorial shows you how to create a 2-D map from logged transform and laser scan data. \n",
    "\n"
   ]
  }
 ],
 "metadata": {
  "kernelspec": {
   "display_name": "Python 2",
   "language": "python",
   "name": "python2"
  },
  "language_info": {
   "codemirror_mode": {
    "name": "ipython",
    "version": 2
   },
   "file_extension": ".py",
   "mimetype": "text/x-python",
   "name": "python",
   "nbconvert_exporter": "python",
   "pygments_lexer": "ipython2",
   "version": "2.7.12"
  }
 },
 "nbformat": 4,
 "nbformat_minor": 2
}
